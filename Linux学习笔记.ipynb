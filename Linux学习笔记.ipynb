{
 "cells": [
  {
   "cell_type": "markdown",
   "id": "5e0eb4db",
   "metadata": {},
   "source": [
    "# 第四章"
   ]
  },
  {
   "cell_type": "markdown",
   "id": "ad39a3c0",
   "metadata": {},
   "source": [
    "桌面与Windows操作基本相同。"
   ]
  },
  {
   "cell_type": "markdown",
   "id": "dcc15fb3",
   "metadata": {},
   "source": [
    "## 指令"
   ]
  },
  {
   "cell_type": "markdown",
   "id": "d72ef3e2",
   "metadata": {},
   "source": [
    "$command [-options] parameter1 parameter2"
   ]
  },
  {
   "cell_type": "markdown",
   "id": "f0652f30",
   "metadata": {},
   "source": [
    "1.加入选项设置时带-号，使用全名时带--号。一些特殊情况下，选项前用+号。"
   ]
  },
  {
   "cell_type": "markdown",
   "id": "4988f0ad",
   "metadata": {},
   "source": [
    "2.按下enter键立即执行，使用反斜线加enter来换行"
   ]
  },
  {
   "cell_type": "markdown",
   "id": "7132c635",
   "metadata": {},
   "source": [
    "3.英文大小写不同"
   ]
  },
  {
   "cell_type": "markdown",
   "id": "87203bd4",
   "metadata": {},
   "source": [
    "## 常用按键"
   ]
  },
  {
   "cell_type": "markdown",
   "id": "da754099",
   "metadata": {},
   "source": [
    "1.Tab,具有“命令补全”和“文件补齐”的功能\n",
    "\n",
    "2.ctrl+c,中断运行\n",
    "\n",
    "3.ctrl+d,键盘输入结束\n",
    "\n",
    "4.shift+pageUP/Down，翻页\n"
   ]
  },
  {
   "cell_type": "markdown",
   "id": "f31ea538",
   "metadata": {},
   "source": [
    "## 帮助"
   ]
  },
  {
   "cell_type": "markdown",
   "id": "4b34e408",
   "metadata": {},
   "source": [
    "### 一、--help，查询用过的指令所具备的选项与参数"
   ]
  },
  {
   "cell_type": "markdown",
   "id": "3208980a",
   "metadata": {},
   "source": [
    "### 二、man page会有详细的介绍"
   ]
  },
  {
   "cell_type": "markdown",
   "id": "551e37d5",
   "metadata": {},
   "source": [
    "   代号1.使用者在shell环境中可以操作的指令或可执行的文件    "
   ]
  },
  {
   "cell_type": "markdown",
   "id": "3b27eee7",
   "metadata": {},
   "source": [
    "代号5.配置文件或者是某些文件的格式"
   ]
  },
  {
   "cell_type": "markdown",
   "id": "9ebc6d57",
   "metadata": {},
   "source": [
    "代号8.系统管理员可用的管理指令"
   ]
  },
  {
   "cell_type": "markdown",
   "id": "0b503658",
   "metadata": {},
   "source": [
    "输入/word来查询关键字"
   ]
  },
  {
   "cell_type": "markdown",
   "id": "74f01956",
   "metadata": {},
   "source": [
    "按下q来离开man page"
   ]
  },
  {
   "cell_type": "markdown",
   "id": "17739250",
   "metadata": {},
   "source": [
    "man -f,简易说明；man -k,按关键词搜索  （需创建whatis数据库）"
   ]
  },
  {
   "cell_type": "markdown",
   "id": "3980688c",
   "metadata": {},
   "source": [
    "### 三、info"
   ]
  },
  {
   "cell_type": "markdown",
   "id": "975fb7aa",
   "metadata": {},
   "source": [
    "File：代表这个info page的数据是来自info.info文件所提供的；\n",
    "\n",
    "Node：代表目前的这个页面是属于Top节点。 意思是info.info内含有很多信息，而Top仅是info.info 文件内的一个节点内容而已；\n",
    "\n",
    "Next：下一个节点的名称为Getting Started，你也可以按“N”到下个节点去； \n",
    "\n",
    "Up：回到上一层的节点总揽画面，你也可以按下“U”回到上一层； \n",
    "\n",
    "Prev：前一个节点。但由于Top是info.info的第一个节点，所以上面没有前一个节点的信息。"
   ]
  },
  {
   "cell_type": "markdown",
   "id": "b2fd15db",
   "metadata": {},
   "source": [
    "### 四、/user/share/doc"
   ]
  },
  {
   "cell_type": "markdown",
   "id": "cf2fa152",
   "metadata": {},
   "source": [
    "其他一些说明文件的位置"
   ]
  },
  {
   "cell_type": "markdown",
   "id": "e5222feb",
   "metadata": {},
   "source": [
    "## nano,文本编辑器"
   ]
  },
  {
   "cell_type": "markdown",
   "id": "c81d5238",
   "metadata": {},
   "source": [
    "nano 文件名.txt，打开或新建"
   ]
  },
  {
   "cell_type": "markdown",
   "id": "f44f2e3e",
   "metadata": {},
   "source": [
    "[ctrl]-G：取得线上说明（help）；\n",
    "\n",
    "[ctrl]-X：离开naon软件，若有修改过文件会提示是否需要储存； \n",
    "\n",
    "[ctrl]-O：储存盘案，有权限的话就能够储存盘案了； \n",
    "\n",
    "[ctrl]-R：从其他文件读入数据，可以将某个文件的内容贴在本文件中； \n",
    "\n",
    "[ctrl]-W：搜寻字串；\n",
    "\n",
    "[ctrl]-C：说明目前光标所在处的行数与列数等信息； \n",
    "\n",
    "[ctrl]-下划线：输入行号可以使光标快速移动；\n",
    "\n",
    "[alt]-Y：校正语法功能打开或关闭（按一下开、再按一下关）；\n",
    "\n",
    "[alt]-M：可以支持鼠标来移动光标的功能"
   ]
  },
  {
   "cell_type": "markdown",
   "id": "5bfa5d01",
   "metadata": {},
   "source": [
    "## 关机"
   ]
  },
  {
   "cell_type": "markdown",
   "id": "1d144116",
   "metadata": {},
   "source": [
    "将数据同步写入硬盘中的指令： sync \n",
    "\n",
    "惯用的关机指令： shutdown \n",
    "\n",
    "重新开机，关机： reboot, halt, poweroff"
   ]
  },
  {
   "cell_type": "markdown",
   "id": "05529205",
   "metadata": {},
   "source": [
    "# 第五章"
   ]
  },
  {
   "cell_type": "markdown",
   "id": "075b7674",
   "metadata": {},
   "source": [
    "## 文件权限"
   ]
  },
  {
   "cell_type": "markdown",
   "id": "4555d46a",
   "metadata": {},
   "source": [
    "### 第一个字符代表这个文件是“目录、文件或链接文件等等”："
   ]
  },
  {
   "cell_type": "markdown",
   "id": "ac11c328",
   "metadata": {},
   "source": [
    "当为[ d ]则是目录，例如上表文件名为“.config”的那一行； \n",
    "\n",
    "当为[ - ]则是文件，例如上表文件名为“initial-setup-ks.cfg”那一行； \n",
    "\n",
    "若是[ l ]则表示为链接文件（link file）； \n",
    "\n",
    "若是[ b ]则表示为设备文件里面的可供储存的周边设备（可随机存取设备）； \n",
    "\n",
    "若是[ c ]则表示为设备文件里面的序列埠设备，例如键盘、鼠标（一次性读取设备）。"
   ]
  },
  {
   "cell_type": "markdown",
   "id": "0da863a2",
   "metadata": {},
   "source": [
    "### 接下来的字符中，以三个为一组，且均为“rwx” 的三个参数的组合。其中，[ r ]代表可读 （read）、[ w ]代表可写（write）、[ x ]代表可执行（execute）。 要注意的是，这三个权限的位置 不会改变，如果没有权限，就会出现减号[ - ]。 "
   ]
  },
  {
   "cell_type": "markdown",
   "id": "89856442",
   "metadata": {},
   "source": [
    "第一组为“文件拥有者可具备的权限”，以“initial-setup-ks.cfg”那个文件为例， 该文件的拥 有者可以读写，但不可执行； \n",
    "\n",
    "第二组为“加入此群组之帐号的权限”； \n",
    "\n",
    "第三组为“非本人且没有加入本群组之其他帐号的权限”。"
   ]
  },
  {
   "cell_type": "markdown",
   "id": "6d261fa5",
   "metadata": {},
   "source": [
    "### 字段含义"
   ]
  },
  {
   "cell_type": "markdown",
   "id": "daa5bf95",
   "metadata": {},
   "source": [
    "第二栏表示有多少文件名链接到此节点（i-node）\n",
    "\n",
    "第三栏表示这个文件（或目录）的“拥有者帐号”\n",
    "\n",
    "第四栏表示这个文件的所属群组\n",
    "\n",
    "第五栏为这个文件的容量大小，默认单位为Bytes\n",
    "\n",
    "第六栏为这个文件的创建日期或者是最近的修改日期\n",
    "\n",
    "第七栏为这个文件的文件名"
   ]
  },
  {
   "cell_type": "markdown",
   "id": "9ec83042",
   "metadata": {},
   "source": [
    "## 改变文件权限"
   ]
  },
  {
   "cell_type": "markdown",
   "id": "4d047809",
   "metadata": {},
   "source": [
    "chgrp ：改变文件所属群组 \n",
    "\n",
    "chown ：改变文件拥有者 \n",
    "\n",
    "chmod ：改变文件的权限, SUID, SGID, SBIT等等的特性 "
   ]
  },
  {
   "cell_type": "markdown",
   "id": "f9b075cd",
   "metadata": {},
   "source": [
    "#### 数字类型改变文件权限"
   ]
  },
  {
   "cell_type": "markdown",
   "id": "afc4943d",
   "metadata": {},
   "source": [
    "Linux文件的基本权限就有九个，分别是owner/group/others三种身份各有自己的 read/write/execute权限， 文件的权限字符为：“- rwxrwxrwx”， \n",
    "\n",
    "这九个权限是三个三个一组的，其中，我们可以使用数字来代表各个权限，各权限 的分数对照表如下：\n",
    "\n",
    "> r:4 \n",
    "\n",
    "> w:2\n",
    "\n",
    "> x:1 \n",
    "            \n",
    "每种身份（owner/group/others）各自的三个权限（r/w/x）分数是需要累加的，\n",
    "\n",
    "例如当权限为： [- rwxrwx---] 分数则是： \n",
    "\n",
    "> owner = rwx = 4+2+1 = 7 \n",
    "\n",
    " > group = rwx = 4+2+1 = 7 \n",
    "\n",
    " > others= --- = 0+0+0 = 0"
   ]
  },
  {
   "cell_type": "markdown",
   "id": "5e43bee2",
   "metadata": {},
   "source": [
    "#### 符号类型改变文件权限"
   ]
  },
  {
   "cell_type": "markdown",
   "id": "f2e77e10",
   "metadata": {},
   "source": [
    "user （u）：具有可读、可写、可执行的权限； \n",
    "\n",
    "group 与 others （g/o）：具有可读与执行的权限"
   ]
  },
  {
   "cell_type": "markdown",
   "id": "32a71c13",
   "metadata": {},
   "source": [
    "### 对文件来讲，权限的性能为： "
   ]
  },
  {
   "cell_type": "markdown",
   "id": "fcddb5ff",
   "metadata": {},
   "source": [
    "r：可读取此一文件的实际内容，如读取文本文件的文字内容等； \n",
    "\n",
    "w：可以编辑、新增或者是修改该文件的内容（但不含删除该文件）； \n",
    "\n",
    "x：该文件具有可以被系统执行的权"
   ]
  },
  {
   "cell_type": "markdown",
   "id": "0bb82704",
   "metadata": {},
   "source": [
    "### 对目录来说，权限的性能为："
   ]
  },
  {
   "cell_type": "markdown",
   "id": "2106dfe7",
   "metadata": {},
   "source": [
    "r （read contents in directory） \n",
    "\n",
    "w （modify contents of directory） \n",
    "\n",
    "x （access directory）"
   ]
  },
  {
   "cell_type": "markdown",
   "id": "11e8fa1d",
   "metadata": {},
   "source": [
    "Linux文件名的限制为：单一文件或目录的最大容许文件名为 255 个英文字符或 128 个中文字符； "
   ]
  },
  {
   "cell_type": "markdown",
   "id": "2366f85b",
   "metadata": {},
   "source": [
    "## 目录配置"
   ]
  },
  {
   "cell_type": "markdown",
   "id": "cb7b1c41",
   "metadata": {},
   "source": [
    "/ （root, 根目录）：与开机系统有关；\n",
    "\n",
    "/usr （unix software resource）：与软件安装/执行有关； \n",
    "\n",
    "/var （variable）：与系统运行过程有关。"
   ]
  },
  {
   "cell_type": "markdown",
   "id": "1511a46b",
   "metadata": {},
   "source": [
    "根据FHS的官方文件指出， 他们的主要目的是希望让使用者可以了解到已安装软件通常放置于那个目录下\n",
    "\n",
    "FHS订定出来的四种目录特色为：shareable, unshareable, static, variable等四类； \n",
    "\n",
    "FHS所定义的三层主目录为：/, /var, /usr三层； \n",
    "\n",
    "绝对路径文件名为从根目录 / 开始写起，否则都是相对路径的文件名。"
   ]
  },
  {
   "cell_type": "markdown",
   "id": "f3229b8c",
   "metadata": {},
   "source": [
    "# 第六章"
   ]
  },
  {
   "cell_type": "markdown",
   "id": "26046923",
   "metadata": {},
   "source": [
    "## 目录与路径"
   ]
  },
  {
   "cell_type": "markdown",
   "id": "4b68df97",
   "metadata": {},
   "source": [
    "绝对路径：“一定由根目录 / 写起”；相对路径：“不由 / 写起，而是由相对当前目录写起” \n",
    "\n",
    "特殊目录有：., .., -, ~, ~account需要注意； \n",
    "\n",
    "与目录相关的指令有：cd, mkdir, rmdir, pwd 等重要指令； \n",
    "\n",
    "rmdir 仅能删除空目录，要删除非空目录需使用“ rm -r ”指令； \n",
    "\n",
    "使用者能使用的指令是依据 PATH 变量所规定的目录去搜寻的； \n",
    "\n",
    "ls 可以检视文件的属性，尤其 -d, -a, -l 等选项特别重要 \n",
    "\n",
    "文件的复制、删除、移动可以分别使用：cp, rm , mv等指令来操作； \n",
    "\n",
    "检查文件的内容（读档）可使用的指令包括有：cat, tac, nl, more, less, head, tail, od 等 cat -n 与 nl 均可显示行号，但默认的情况下，空白行会不会编号并不相同； \n",
    "\n",
    "touch 的目的在修改文件的时间参数，但亦可用来创建空文件； \n",
    "\n",
    "一个文件记录的时间参数有三种，分别是 access time（atime）, status time （ctime）, modification time（mtime），ls 默认显示的是 mtime。 \n",
    "\n",
    "除了传统的rwx权限之外，在Ext2/Ext3/Ext4/xfs文件系统中，还可以使用chattr与lsattr设置及观察 隐藏属性。 \n",
    "\n",
    "常见的包括只能新增数据的 +a 与完全不能更动文件的 +i 属性。 \n",
    "\n",
    "新建文件/目录时，新文件的默认权限使用 umask 来规范。\n",
    "\n",
    "默认目录完全权限为drwxrwxrwx， 文件 则为-rw-rw-rw-。 文件具有SUID的特殊权限时，代表当使用者执行此一binary程序时，在执行过程中使用者会暂时具有程序拥有者的权限 \n",
    "\n",
    "目录具有SGID的特殊权限时，代表使用者在这个目录下面新建的文件之群组都会与该目录的群组名称 相同。 \n",
    "\n",
    "目录具有SBIT的特殊权限时，代表在该目录下使用者创建的文件只有自己与root能够删除！"
   ]
  },
  {
   "cell_type": "markdown",
   "id": "a03e911f",
   "metadata": {},
   "source": [
    "## 指令与文件的搜寻"
   ]
  },
  {
   "cell_type": "markdown",
   "id": "b5abebef",
   "metadata": {},
   "source": [
    "观察文件的类型可以使用 file 指令来观察； \n",
    "\n",
    "搜寻指令的完整文件名可用 which 或 type ，这两个指令都是通过 PATH 变量来搜寻文件名； \n",
    "\n",
    "搜寻文件的完整文件名可以使用 whereis 找特定目录或 locate 到数据库去搜寻，而不实际搜寻文件系统； \n",
    "\n",
    "利用 find 可以加入许多选项来直接查询文件系统，以获得自己想要知道的文件名"
   ]
  },
  {
   "cell_type": "markdown",
   "id": "512e233f",
   "metadata": {},
   "source": [
    "# 第七章"
   ]
  },
  {
   "cell_type": "markdown",
   "id": "836edf00",
   "metadata": {},
   "source": [
    "## 文件系统"
   ]
  },
  {
   "cell_type": "markdown",
   "id": "eaf84893",
   "metadata": {},
   "source": [
    "superblock：记录此 filesystem 的整体信息，包括inode/block的总量、使用量、剩余量，以及文件系统的格式与相关信息等； \n",
    "\n",
    "inode：记录文件的属性，一个文件占用一个inode，同时记录此文件的数据所在的block号码； \n",
    "\n",
    "block：实际记录文件的内容，若文件太大时，会占用多个block"
   ]
  },
  {
   "cell_type": "markdown",
   "id": "34cd0a72",
   "metadata": {},
   "source": [
    "### Ext2"
   ]
  },
  {
   "cell_type": "markdown",
   "id": "78cd6a35",
   "metadata": {},
   "source": [
    "Ext2 文件系统的数据存取为索引式文件系统（indexed allocation） \n",
    "\n",
    "需要磁盘重组的原因就是文件写入的 block 太过于离散了，此时文件读取的性能将会变的很差所致。 这个时候可以通过磁盘重组将同一个文件所属的 blocks 汇整在一起\n",
    "\n",
    "Ext2文件系统主要有：boot sector, superblock, inode bitmap, block bitmap, inode table, data block 等六大部分\n",
    "\n",
    "data block是用来放置文件内容数据地方，在Ext2文件系统中所支持的block大小有1K,2K及4K三种 \n",
    "\n",
    "inode 记录文件的属性/权限等数据，其他重要项目为：每个 inode 大小均为固定，有128/256Bytes两种基本容量\n",
    "\n",
    "每个文件都仅会占用一个inode； 因此文件系统能够创建的文件数量与inode的数量有关\n",
    "\n",
    "文件的 block 在记录文件的实际数据，目录的block则在记录该目录下面文件名与其inode号码的对照表"
   ]
  },
  {
   "cell_type": "markdown",
   "id": "643b7b30",
   "metadata": {},
   "source": [
    "## 文件系统的简单操作"
   ]
  },
  {
   "cell_type": "markdown",
   "id": "4dc3c09f",
   "metadata": {},
   "source": [
    "df：列出文件系统的整体磁盘使用量； \n",
    "\n",
    "du：评估文件系统的磁盘使用量（常用在推估目录所占容量）"
   ]
  },
  {
   "cell_type": "markdown",
   "id": "58ba249f",
   "metadata": {},
   "source": [
    "使用 hard link 设置链接文件时，磁盘的空间与 inode 的数目都不会改变"
   ]
  },
  {
   "cell_type": "markdown",
   "id": "fd3108b8",
   "metadata": {},
   "source": [
    "hard link 是有限制的： \n",
    "\n",
    "不能跨 Filesystem； \n",
    "\n",
    "不能 link 目录"
   ]
  },
  {
   "cell_type": "markdown",
   "id": "5441e837",
   "metadata": {},
   "source": [
    "## 磁盘的分区、格式化、检验与挂载"
   ]
  },
  {
   "cell_type": "markdown",
   "id": "2fcdf9e0",
   "metadata": {},
   "source": [
    "对磁盘进行分区，以创建可用的 partition ； \n",
    "\n",
    "对该 partition 进行格式化 （format），以创建系统可用的 filesystem； \n",
    "\n",
    "若想要仔细一点，则可对刚刚创建好的 filesystem 进行检验； \n",
    "\n",
    "在 Linux 系统上，需要创建挂载点 （亦即是目录），并将他挂载上来"
   ]
  },
  {
   "cell_type": "markdown",
   "id": "eb792d23",
   "metadata": {},
   "source": [
    "NAME：设备的文件名，会省略 /dev 等前导目录 \n",
    "\n",
    "MAJ:MIN：分别是主要：次要设备代码！ \n",
    "\n",
    "RM：是否为可卸载设备 （removable device），如光盘、USB 磁盘等等 \n",
    "\n",
    "SIZE：容量 \n",
    "\n",
    "RO：是否为只读设备 \n",
    "\n",
    "TYPE：是磁盘 （disk）、分区 （partition） 还是只读存储器 （rom） 等输出 \n",
    "\n",
    "MOUTPOINT：挂载点"
   ]
  },
  {
   "cell_type": "markdown",
   "id": "9a000d6a",
   "metadata": {},
   "source": [
    "应该要通过 lsblk 或 blkid 先找到磁盘，再用 parted /dev/xxx print 来找出内部的分区表类型，之后 才用 gdisk 或 fdisk 来操作系统"
   ]
  },
  {
   "cell_type": "markdown",
   "id": "5db8108c",
   "metadata": {},
   "source": [
    "Number：分区编号，1 号指的是 /dev/vda1 这样计算。 \n",
    "\n",
    "Start （sector）：每一个分区的开始扇区号码位置 \n",
    "\n",
    "End （sector）：每一个分区的结束扇区号码位置，与 start 之间可以算出分区的总容量\n",
    "\n",
    "Size：就是分区的容量了 \n",
    "\n",
    "Code：在分区内的可能的文件系统类型。Linux 为 8300，swap 为 8200。不过这个项目只是一个提 示而已，不见得真的代表此分区内的文件系统\n",
    "\n",
    "Name：文件系统的名称等等"
   ]
  },
  {
   "cell_type": "markdown",
   "id": "64b6080d",
   "metadata": {},
   "source": [
    "磁盘的使用必需要经过：分区、格式化与挂载，分别惯用的指令为：gdisk, mkfs, mount三个指令 \n",
    "\n",
    "分区时，应使用 parted 检查分区表格式，再判断使用 fdisk/gdisk 来分区，或直接使用 parted 分区 \n",
    "\n",
    "为了考虑性能，XFS 文件系统格式化时，可以考虑加上 agcount/su/sw/extsize 等参数较佳 \n",
    "\n",
    "如果磁盘已无未分区的容量，可以考虑使用大型文件取代磁盘设备的处理方式，通过 dd 与格式化功能。"
   ]
  },
  {
   "cell_type": "markdown",
   "id": "44217f8c",
   "metadata": {},
   "source": [
    "## 设置开机挂载"
   ]
  },
  {
   "cell_type": "markdown",
   "id": "8a7e5218",
   "metadata": {},
   "source": [
    "开机自动挂载可参考/etc/fstab之设置，设置完毕务必使用 mount -a 测试语法正确否"
   ]
  },
  {
   "cell_type": "markdown",
   "id": "0d47ed68",
   "metadata": {},
   "source": [
    "#  第八章"
   ]
  },
  {
   "cell_type": "markdown",
   "id": "1785d400",
   "metadata": {},
   "source": [
    "-c ：将压缩的数据输出到屏幕上，可通过数据流重导向来处理；\n",
    "\n",
    "-d ：解压缩的参数；\n",
    "\n",
    "-t ：可以用来检验一个压缩文件的一致性～看看文件有无错误；\n",
    "\n",
    "-v ：可以显示出原文件/压缩文件的压缩比等信息"
   ]
  },
  {
   "cell_type": "markdown",
   "id": "6550488b",
   "metadata": {},
   "source": [
    "zcat/zmore/zless 则可以读取纯文本文件被压缩后的压缩文件"
   ]
  },
  {
   "cell_type": "markdown",
   "id": "87986b7b",
   "metadata": {},
   "source": [
    "bzip2 压缩比更大 时间久\n",
    "\n",
    "xz 更大 更久\n",
    "\n",
    "tar 可以将多个目录或文件打包成"
   ]
  },
  {
   "cell_type": "markdown",
   "id": "4b603daa",
   "metadata": {},
   "source": [
    "xfsdump 除了可以进行文件系统的完整备份之外，还可以进行累积备份\n",
    "\n",
    "xfsdump 的复原使用的是 xfsrestore 这个指令dd\n",
    "\n",
    "cpio与find搭配"
   ]
  },
  {
   "cell_type": "markdown",
   "id": "b62265d0",
   "metadata": {},
   "source": [
    "# 第九章"
   ]
  },
  {
   "cell_type": "markdown",
   "id": "3c9e568a",
   "metadata": {},
   "source": [
    "vi 共分为三种模式，分别是“一般指令模式”、“编辑模式”与“命令行命令模式”\n",
    "\n",
    "一般指令模式： vi 打开一个文件就直接进入一般指令模式了\n",
    "\n",
    "编辑模式：一般指令中按“i, I, o, O, a, A, r, R”等任何一个字母之后才会进入编辑模式\n",
    "\n",
    "命令行命令模式：在一般模式当中，输入“ : / ? ”三个中的任何一个按钮，就可以将光标移动到最下面那一列ESC退出"
   ]
  },
  {
   "cell_type": "markdown",
   "id": "8a5afaf5",
   "metadata": {},
   "source": [
    "## vim"
   ]
  },
  {
   "cell_type": "markdown",
   "id": "5c8985a9",
   "metadata": {},
   "source": [
    "vim 的暂存盘、救援回复与打开时的警告信息\n",
    "\n",
    "目前主要的文书编辑软件都会有“回复”的功能，亦即当你的系统因为某些原因而导致类似死机的情况时， 还可以通过某些特别的机制来让你将之前未储存的数据“救”回来"
   ]
  },
  {
   "cell_type": "markdown",
   "id": "a78a4d84",
   "metadata": {},
   "source": [
    "vim 的额外功能：\n",
    "\n",
    "看到画面的右下角有显示目前光标所在的行列号码，那么你的 vi 已经被 vim 所取代"
   ]
  },
  {
   "cell_type": "markdown",
   "id": "3d6919b9",
   "metadata": {},
   "source": [
    " vim 的挑字补全功能\n",
    " \n",
    "[ctrl]+x -> [ctrl]+n 通过目前正在编辑的这个“文件的内容文字”作为关键字，予以补齐\n",
    "\n",
    "[ctrl]+x -> [ctrl]+f 以当前目录内的“文件名”作为关键字，予以补齐\n",
    "\n",
    "[ctrl]+x -> [ctrl]+o 以扩展名作为语法补充，以 vim 内置的关键字，予以补齐"
   ]
  },
  {
   "cell_type": "markdown",
   "id": "731c8e75",
   "metadata": {},
   "source": [
    "# 第十章"
   ]
  },
  {
   "cell_type": "markdown",
   "id": "a1910576",
   "metadata": {},
   "source": [
    "## BASH"
   ]
  },
  {
   "cell_type": "markdown",
   "id": "6a851f57",
   "metadata": {},
   "source": [
    "history   tab键 命令别名设置功能等\n",
    " \n",
    "查询指令是否为 Bash shell 的内置命令： type\n",
    "\n",
    "shell的变量功能\n",
    "\n",
    "变量的取用"
   ]
  }
 ],
 "metadata": {
  "kernelspec": {
   "display_name": "Python 3 (ipykernel)",
   "language": "python",
   "name": "python3"
  },
  "language_info": {
   "codemirror_mode": {
    "name": "ipython",
    "version": 3
   },
   "file_extension": ".py",
   "mimetype": "text/x-python",
   "name": "python",
   "nbconvert_exporter": "python",
   "pygments_lexer": "ipython3",
   "version": "3.9.7"
  }
 },
 "nbformat": 4,
 "nbformat_minor": 5
}
